{
 "cells": [
  {
   "cell_type": "markdown",
   "id": "4d407dc7",
   "metadata": {},
   "source": [
    "# Compute P-/S-wave travel Times\n",
    "\n",
    "In this notebook, we compute the table of P-/S-wave travel times from a 3D grid of potential source locations to every seismic station. This travel time table is necessary for backprojection and for earthquake location with `NLLoc`.\n",
    "\n",
    "This tutorial uses the `pykonal` package to compute travel times in a given velocity model (see `pykonal` documentation at [https://github.com/malcolmw/pykonal](https://github.com/malcolmw/pykonal)). Please acknowledge [White et al. (2020)](https://pubs.geoscienceworld.org/ssa/srl/article-abstract/91/4/2378/586804/PyKonal-A-Python-Package-for-Solving-the-Eikonal?redirectedFrom=fulltext) if using `pykonal`."
   ]
  },
  {
   "cell_type": "code",
   "execution_count": 1,
   "id": "053d6969",
   "metadata": {},
   "outputs": [],
   "source": [
    "import os\n",
    "# choose the number of threads you want to limit the computation to\n",
    "n_CPUs = 24\n",
    "os.environ[\"OMP_NUM_THREADS\"] = str(n_CPUs)\n",
    "\n",
    "import BPMF\n",
    "import h5py as h5\n",
    "import numpy as np\n",
    "import pykonal\n",
    "import pandas as pd\n",
    "import sys\n",
    "\n",
    "\n",
    "from BPMF import NLLoc_utils\n",
    "from scipy.interpolate import interp1d, LinearNDInterpolator\n",
    "from tqdm import tqdm"
   ]
  },
  {
   "attachments": {},
   "cell_type": "markdown",
   "id": "0888463d",
   "metadata": {},
   "source": [
    "## Load station metadata"
   ]
  },
  {
   "cell_type": "code",
   "execution_count": 2,
   "id": "a9b071c0",
   "metadata": {},
   "outputs": [],
   "source": [
    "NETWORK_FILENAME = \"network.csv\"\n",
    "TT_FILENAME = \"tts.h5\""
   ]
  },
  {
   "cell_type": "code",
   "execution_count": 3,
   "id": "9c426fec",
   "metadata": {},
   "outputs": [],
   "source": [
    "# read network metadata\n",
    "net = BPMF.dataset.Network(NETWORK_FILENAME)\n",
    "net.read()"
   ]
  },
  {
   "cell_type": "markdown",
   "id": "8be78738",
   "metadata": {},
   "source": [
    "## Read the velocity model from Karabulut et al. 2011"
   ]
  },
  {
   "cell_type": "code",
   "execution_count": 4,
   "id": "4cbfa111",
   "metadata": {},
   "outputs": [],
   "source": [
    "# we assume that you are running this notebook from Seismic_BPMF/notebooks/ and the velocity model\n",
    "# is stored at Seismic_BPMF/data/\n",
    "FILEPATH_VEL_MODEL = os.path.join(os.pardir, \"data\", \"velocity_model_Karabulut2011.csv\")"
   ]
  },
  {
   "cell_type": "markdown",
   "id": "4ac6b2d7",
   "metadata": {},
   "source": [
    "We read the velocity model with `pandas`. Not all columns of the csv files are necessary for our purpose. The velocity model is a 1D layered model and the `depth` column gives the top of each layer in meters (positive downward). The `P` and `S` columns are the wave velocities in m/s."
   ]
  },
  {
   "cell_type": "code",
   "execution_count": 5,
   "id": "e87583a2",
   "metadata": {},
   "outputs": [
    {
     "data": {
      "text/html": [
       "<div>\n",
       "<style scoped>\n",
       "    .dataframe tbody tr th:only-of-type {\n",
       "        vertical-align: middle;\n",
       "    }\n",
       "\n",
       "    .dataframe tbody tr th {\n",
       "        vertical-align: top;\n",
       "    }\n",
       "\n",
       "    .dataframe thead th {\n",
       "        text-align: right;\n",
       "    }\n",
       "</style>\n",
       "<table border=\"1\" class=\"dataframe\">\n",
       "  <thead>\n",
       "    <tr style=\"text-align: right;\">\n",
       "      <th></th>\n",
       "      <th>0</th>\n",
       "      <th>1</th>\n",
       "      <th>2</th>\n",
       "      <th>3</th>\n",
       "      <th>4</th>\n",
       "      <th>5</th>\n",
       "      <th>6</th>\n",
       "      <th>7</th>\n",
       "      <th>8</th>\n",
       "      <th>9</th>\n",
       "      <th>10</th>\n",
       "      <th>11</th>\n",
       "      <th>12</th>\n",
       "      <th>13</th>\n",
       "      <th>14</th>\n",
       "      <th>15</th>\n",
       "      <th>16</th>\n",
       "      <th>17</th>\n",
       "    </tr>\n",
       "  </thead>\n",
       "  <tbody>\n",
       "    <tr>\n",
       "      <th>depth</th>\n",
       "      <td>-2000.0</td>\n",
       "      <td>0.0</td>\n",
       "      <td>1000.0</td>\n",
       "      <td>2000.0</td>\n",
       "      <td>3000.0</td>\n",
       "      <td>4000.0</td>\n",
       "      <td>5000.0</td>\n",
       "      <td>6000.0</td>\n",
       "      <td>8000.0</td>\n",
       "      <td>10000.0</td>\n",
       "      <td>12000.0</td>\n",
       "      <td>14000.0</td>\n",
       "      <td>15000.0</td>\n",
       "      <td>20000.0</td>\n",
       "      <td>22000.0</td>\n",
       "      <td>25000.0</td>\n",
       "      <td>32000.0</td>\n",
       "      <td>77000.0</td>\n",
       "    </tr>\n",
       "    <tr>\n",
       "      <th>P</th>\n",
       "      <td>2900.0</td>\n",
       "      <td>3000.0</td>\n",
       "      <td>5600.0</td>\n",
       "      <td>5700.0</td>\n",
       "      <td>5800.0</td>\n",
       "      <td>5900.0</td>\n",
       "      <td>5950.0</td>\n",
       "      <td>6050.0</td>\n",
       "      <td>6100.0</td>\n",
       "      <td>6150.0</td>\n",
       "      <td>6200.0</td>\n",
       "      <td>6250.0</td>\n",
       "      <td>6300.0</td>\n",
       "      <td>6400.0</td>\n",
       "      <td>6500.0</td>\n",
       "      <td>6700.0</td>\n",
       "      <td>8000.0</td>\n",
       "      <td>8045.0</td>\n",
       "    </tr>\n",
       "    <tr>\n",
       "      <th>S</th>\n",
       "      <td>1670.0</td>\n",
       "      <td>1900.0</td>\n",
       "      <td>3150.0</td>\n",
       "      <td>3210.0</td>\n",
       "      <td>3260.0</td>\n",
       "      <td>3410.0</td>\n",
       "      <td>3420.0</td>\n",
       "      <td>3440.0</td>\n",
       "      <td>3480.0</td>\n",
       "      <td>3560.0</td>\n",
       "      <td>3590.0</td>\n",
       "      <td>3610.0</td>\n",
       "      <td>3630.0</td>\n",
       "      <td>3660.0</td>\n",
       "      <td>3780.0</td>\n",
       "      <td>3850.0</td>\n",
       "      <td>4650.0</td>\n",
       "      <td>4650.0</td>\n",
       "    </tr>\n",
       "  </tbody>\n",
       "</table>\n",
       "</div>"
      ],
      "text/plain": [
       "           0       1       2       3       4       5       6       7       8   \\\n",
       "depth -2000.0     0.0  1000.0  2000.0  3000.0  4000.0  5000.0  6000.0  8000.0   \n",
       "P      2900.0  3000.0  5600.0  5700.0  5800.0  5900.0  5950.0  6050.0  6100.0   \n",
       "S      1670.0  1900.0  3150.0  3210.0  3260.0  3410.0  3420.0  3440.0  3480.0   \n",
       "\n",
       "            9        10       11       12       13       14       15       16  \\\n",
       "depth  10000.0  12000.0  14000.0  15000.0  20000.0  22000.0  25000.0  32000.0   \n",
       "P       6150.0   6200.0   6250.0   6300.0   6400.0   6500.0   6700.0   8000.0   \n",
       "S       3560.0   3590.0   3610.0   3630.0   3660.0   3780.0   3850.0   4650.0   \n",
       "\n",
       "            17  \n",
       "depth  77000.0  \n",
       "P       8045.0  \n",
       "S       4650.0  "
      ]
     },
     "execution_count": 5,
     "metadata": {},
     "output_type": "execute_result"
    }
   ],
   "source": [
    "# read the velocity model with pandas\n",
    "velocity_model = pd.read_csv(\n",
    "    FILEPATH_VEL_MODEL, \n",
    "    usecols=[1, 2, 4],\n",
    "    names=[\"depth\", \"P\", \"S\"],\n",
    "    skiprows=1,\n",
    "    )\n",
    "velocity_model.T"
   ]
  },
  {
   "cell_type": "markdown",
   "id": "71fa08d5",
   "metadata": {},
   "source": [
    "## Build a 3D Grid of P-/S-wave Velocities\n",
    "\n",
    "Even though the model used here is a 1D model, `pykonal` works with a 3D model. Therefore, we first need to define the velocity model on a 3D spatial grid."
   ]
  },
  {
   "cell_type": "code",
   "execution_count": 6,
   "id": "0fc86f82",
   "metadata": {},
   "outputs": [],
   "source": [
    "# define constant to go from degrees to radians\n",
    "DEG_TO_RAD = np.pi / 180.\n",
    "# define the geographical extent of the 3D grid\n",
    "LON_MIN_DEG = 30.20\n",
    "LON_MAX_DEG = 30.45\n",
    "LAT_MIN_DEG = 40.60\n",
    "LAT_MAX_DEG = 40.80\n",
    "DEP_MIN_KM = -2.0\n",
    "DEP_MAX_KM = 30.\n",
    "# define the grid spacing\n",
    "D_LON_DEG = 0.01 \n",
    "D_LAT_DEG = 0.01\n",
    "D_LON_RAD = D_LON_DEG * DEG_TO_RAD\n",
    "D_LAT_RAD = D_LAT_DEG * DEG_TO_RAD\n",
    "D_DEP_KM = 0.5"
   ]
  },
  {
   "attachments": {},
   "cell_type": "markdown",
   "id": "8d4db055",
   "metadata": {},
   "source": [
    "All stations must be located within the travel-time grid, otherwise PyKonal returns `inf` travel times for those stations that are outside the grid."
   ]
  },
  {
   "cell_type": "code",
   "execution_count": 7,
   "id": "8d1d05c4",
   "metadata": {},
   "outputs": [],
   "source": [
    "# if nothing happens here, it means that everything is alright\n",
    "for s in range(net.n_stations):\n",
    "    if (net.longitude[s] < LON_MIN_DEG) or (net.longitude[s] > LON_MAX_DEG):\n",
    "        print(f\"The longitude of station {net.stations[s]} is outside the grid! Make your grid bigger.\")\n",
    "    if (net.latitude[s] < LAT_MIN_DEG) or (net.latitude[s] > LAT_MAX_DEG):\n",
    "        print(f\"The latitude of station {net.stations[s]} is outside the grid! Make your grid bigger.\")\n",
    "    if (net.depth[s] < DEP_MIN_KM) or (net.depth[s] > DEP_MAX_KM):\n",
    "        print(f\"The depth of station {net.stations[s]} is outside the grid! Make your grid bigger.\")"
   ]
  },
  {
   "cell_type": "code",
   "execution_count": 8,
   "id": "b2d14b6b",
   "metadata": {},
   "outputs": [],
   "source": [
    "# we will be using pykonal in spherical coordinates with radial coordinates (depth) in km\n",
    "# therefore, we first convert all meters in kilometers\n",
    "velocity_model[\"depth\"] /= 1000.0\n",
    "velocity_model[\"P\"] /= 1000.0\n",
    "velocity_model[\"S\"] /= 1000.0"
   ]
  },
  {
   "cell_type": "code",
   "execution_count": 9,
   "id": "1e9f75bb",
   "metadata": {},
   "outputs": [],
   "source": [
    "# to expand the 1D layered velocity model onto a 3D grid,\n",
    "# we build an interpolator that gives the velocity at any point in depth\n",
    "# to preserve the layered structure in the interpolated model, we need to\n",
    "# add new rows to the 1D model to keep the velocity discontinuities\n",
    "\n",
    "# new depths just below the existing depths\n",
    "new_depths = velocity_model[\"depth\"][1:] - 0.00001\n",
    "# P-wave velocity interpolator\n",
    "new_vP = velocity_model[\"P\"][:-1]\n",
    "interpolator_P = interp1d(\n",
    "    np.hstack((velocity_model[\"depth\"], new_depths)),\n",
    "    np.hstack((velocity_model[\"P\"], new_vP)),\n",
    ")\n",
    "# S-wave velocity interpolator\n",
    "new_vS = velocity_model[\"S\"][:-1]\n",
    "interpolator_S = interp1d(\n",
    "    np.hstack((velocity_model[\"depth\"], new_depths)),\n",
    "    np.hstack((velocity_model[\"S\"], new_vS)),\n",
    ")"
   ]
  },
  {
   "cell_type": "markdown",
   "id": "6dc79f87",
   "metadata": {},
   "source": [
    "The spherical coordinate system used by `pykonal` specifies a point position with $(r, \\theta, \\varphi)$:\n",
    "- $r$: Distance from center or Earth in km (= decreasing depth).\n",
    "- $\\theta$: Polar angle in radians (= co-latitude or, equivalently, decreasing latitude).\n",
    "- $\\varphi$: Azimuthal angle in radians (= longitude).\n",
    "\n",
    "Thus, the 3D grid must be built such that $r$, $\\theta$ and $\\varphi$ increase with increasing index. Axis 0 is decreasing depth, axis 1 is decreasing latitude and axis 2 is increasing longitude."
   ]
  },
  {
   "cell_type": "code",
   "execution_count": 10,
   "id": "002daac2",
   "metadata": {},
   "outputs": [
    {
     "name": "stdout",
     "output_type": "stream",
     "text": [
      "Increasing longitudes:  [30.2  30.21 30.22 30.23 30.24 30.25 30.26 30.27 30.28 30.29 30.3  30.31\n",
      " 30.32 30.33 30.34 30.35 30.36 30.37 30.38 30.39 30.4  30.41 30.42 30.43\n",
      " 30.44 30.45]\n",
      "Decreasing latitudes:  [40.8  40.79 40.78 40.77 40.76 40.75 40.74 40.73 40.72 40.71 40.7  40.69\n",
      " 40.68 40.67 40.66 40.65 40.64 40.63 40.62 40.61 40.6 ]\n",
      "Decreasing depths:  [30.  29.5 29.  28.5 28.  27.5 27.  26.5 26.  25.5 25.  24.5 24.  23.5\n",
      " 23.  22.5 22.  21.5 21.  20.5 20.  19.5 19.  18.5 18.  17.5 17.  16.5\n",
      " 16.  15.5 15.  14.5 14.  13.5 13.  12.5 12.  11.5 11.  10.5 10.   9.5\n",
      "  9.   8.5  8.   7.5  7.   6.5  6.   5.5  5.   4.5  4.   3.5  3.   2.5\n",
      "  2.   1.5  1.   0.5  0.  -0.5 -1.  -1.5 -2. ]\n"
     ]
    }
   ],
   "source": [
    "# make sure the user-specified ends of the grid are included in the arange vectors\n",
    "longitudes = np.arange(LON_MIN_DEG, LON_MAX_DEG+D_LON_DEG/2., D_LON_DEG)\n",
    "latitudes = np.arange(LAT_MAX_DEG, LAT_MIN_DEG-D_LAT_DEG/2., -D_LAT_DEG)\n",
    "depths = np.arange(DEP_MAX_KM, DEP_MIN_KM-D_DEP_KM/2., -D_DEP_KM)\n",
    "\n",
    "print(\"Increasing longitudes: \", longitudes)\n",
    "print(\"Decreasing latitudes: \", latitudes)\n",
    "print(\"Decreasing depths: \", depths)\n",
    "\n",
    "# get the number of points in each direction\n",
    "n_longitudes = len(longitudes)\n",
    "n_latitudes = len(latitudes)\n",
    "n_depths = len(depths)"
   ]
  },
  {
   "cell_type": "code",
   "execution_count": 11,
   "id": "97a831e5",
   "metadata": {},
   "outputs": [],
   "source": [
    "# use the previously defined interpolators to compute the P-/S-wave velocity\n",
    "# at each point of the 3D spherical coordinate grid defined by depths, latitudes, longitudes (see above cell)\n",
    "vP_grid = np.zeros((n_depths, n_latitudes, n_longitudes), dtype=np.float32)\n",
    "vS_grid = np.zeros((n_depths, n_latitudes, n_longitudes), dtype=np.float32)\n",
    "for i in range(n_depths):\n",
    "    vP_grid[i, :, :] = interpolator_P(depths[i])\n",
    "    vS_grid[i, :, :] = interpolator_S(depths[i])\n",
    "\n",
    "depths_g, latitudes_g, longitudes_g = np.meshgrid(\n",
    "    depths, latitudes, longitudes, indexing=\"ij\"\n",
    ")\n",
    "\n",
    "# keep velocities and grid point coordinates in a dictionary for later use\n",
    "grid = {}\n",
    "grid[\"vP\"] = vP_grid\n",
    "grid[\"vS\"] = vS_grid\n",
    "grid[\"longitude\"] = longitudes_g\n",
    "grid[\"latitude\"] = latitudes_g\n",
    "grid[\"depth\"] = depths_g"
   ]
  },
  {
   "cell_type": "markdown",
   "id": "22c607dc",
   "metadata": {},
   "source": [
    "The 3D grid is ready! This piece of code can easily be adapted for using a 2D or 3D input velocity model. Keep in mind that, in most cases, even a 3D velocity model will have to be re-ordered to satisfy `pykonal` conventions."
   ]
  },
  {
   "cell_type": "markdown",
   "id": "62302530",
   "metadata": {},
   "source": [
    "## Compute the P-/S-wave travel times"
   ]
  },
  {
   "cell_type": "code",
   "execution_count": 12,
   "id": "38170696",
   "metadata": {},
   "outputs": [
    {
     "name": "stdout",
     "output_type": "stream",
     "text": [
      "Min radius: 6341 km, min co-latitude: 0.86 rad, min azimuthal angle: 0.53 rad\n"
     ]
    }
   ],
   "source": [
    "# define the origin of our grid for pykonal\n",
    "# the origin of the grid is the point with lowest (r, theta, phi)\n",
    "r_min, theta_min, phi_min = pykonal.transformations.geo2sph(\n",
    "    [grid[\"latitude\"].max(), grid[\"longitude\"].min(), grid[\"depth\"].max()]\n",
    ")\n",
    "print(\n",
    "    \"Min radius: {:.0f} km, min co-latitude: {:.2f} rad, min azimuthal angle: {:.2f} rad\".format(\n",
    "        r_min, theta_min, phi_min\n",
    "    )\n",
    ")\n"
   ]
  },
  {
   "cell_type": "code",
   "execution_count": 13,
   "id": "55121714",
   "metadata": {},
   "outputs": [
    {
     "name": "stderr",
     "output_type": "stream",
     "text": [
      "Computing travel times: 0it [00:00, ?it/s]"
     ]
    },
    {
     "name": "stderr",
     "output_type": "stream",
     "text": [
      "Computing travel times: 8it [00:06,  1.23it/s]\n"
     ]
    }
   ],
   "source": [
    "# store travel times in a dictionary\n",
    "tts = {\"tt_P\": {}, \"tt_S\": {}}\n",
    "for s, network_sta in tqdm(enumerate(net.stations), desc=\"Computing travel times\"):\n",
    "    for phase in [\"P\", \"S\"]:\n",
    "        # initialize travel time arrays\n",
    "        tts[f\"tt_{phase}\"][network_sta] = np.zeros(\n",
    "            grid[f\"v{phase}\"].shape, dtype=np.float32\n",
    "        )\n",
    "\n",
    "        # initialize the Eikonal equation solver\n",
    "        solver = pykonal.solver.PointSourceSolver(coord_sys=\"spherical\")\n",
    "        # define the computational grid so that it matches exactly\n",
    "        # the grid on which we have expanded the velocity model\n",
    "        solver.velocity.min_coords = r_min, theta_min, phi_min\n",
    "        solver.velocity.node_intervals = D_DEP_KM, D_LAT_RAD, D_LON_RAD\n",
    "        solver.velocity.npts = n_depths, n_latitudes, n_longitudes\n",
    "        solver.velocity.values = grid[f\"v{phase}\"]\n",
    "\n",
    "        # we take the station as the seismic source to compute the\n",
    "        # travel times to all points of the grid\n",
    "        source_latitude = net.latitude[s]\n",
    "        source_longitude = net.longitude[s]\n",
    "        source_depth = net.depth[s]\n",
    "        # convert the geographical coordinates to spherical coordinates\n",
    "        r_source, theta_source, lbd_source = pykonal.transformations.geo2sph(\n",
    "            [source_latitude, source_longitude, source_depth]\n",
    "        )\n",
    "        solver.src_loc = np.array([r_source, theta_source, lbd_source])\n",
    "\n",
    "        # solve the Eikonal equation\n",
    "        solver.solve()\n",
    "\n",
    "        tts[f\"tt_{phase}\"][network_sta] = solver.tt.values[...]\n",
    "\n",
    "# store source coordinates in tts:\n",
    "tts[\"source_coordinates\"] = {}\n",
    "src_coords = pykonal.transformations.sph2geo(solver.velocity.nodes)\n",
    "tts[\"source_coordinates\"][\"latitude\"] = src_coords[..., 0]\n",
    "tts[\"source_coordinates\"][\"longitude\"] = src_coords[..., 1]\n",
    "tts[\"source_coordinates\"][\"depth\"] = src_coords[..., 2]\n"
   ]
  },
  {
   "cell_type": "markdown",
   "id": "eb9a0db6",
   "metadata": {},
   "source": [
    "## Store travel time table for backprojection"
   ]
  },
  {
   "cell_type": "code",
   "execution_count": 14,
   "id": "ee151b53",
   "metadata": {},
   "outputs": [],
   "source": [
    "# write travel-times in hdf5 file\n",
    "with h5.File(os.path.join(BPMF.cfg.MOVEOUTS_PATH, TT_FILENAME), mode=\"w\") as f:\n",
    "    for key1 in tts.keys():\n",
    "        f.create_group(key1)\n",
    "        for key2 in tts[key1].keys():\n",
    "            f[key1].create_dataset(key2, data=tts[key1][key2], compression=\"gzip\")"
   ]
  },
  {
   "cell_type": "markdown",
   "id": "cdc9aeb5",
   "metadata": {},
   "source": [
    "## Store travel time tables for `NLLoc`\n",
    "\n",
    "We write the travel time tables in an adequate format for `NLLoc` using the utility functions from `BPMF.NLLoc_utils`."
   ]
  },
  {
   "cell_type": "code",
   "execution_count": 15,
   "id": "0816981c",
   "metadata": {},
   "outputs": [
    {
     "name": "stdout",
     "output_type": "stream",
     "text": [
      "The origin of the grid is: 30.2000, 40.6000, -2.000km\n",
      "Longitude spacing: 0.010deg\n",
      "Latitude spacing: 0.010deg\n",
      "Depth spacing: 0.500km\n",
      "Station DE07\n",
      "--- Phase P\n",
      "--- Phase S\n",
      "Station DC07\n",
      "--- Phase P\n",
      "--- Phase S\n",
      "Station DC08\n",
      "--- Phase P\n",
      "--- Phase S\n",
      "Station DE08\n",
      "--- Phase P\n",
      "--- Phase S\n",
      "Station SPNC\n",
      "--- Phase P\n",
      "--- Phase S\n",
      "Station DC06\n",
      "--- Phase P\n",
      "--- Phase S\n",
      "Station SAUV\n",
      "--- Phase P\n",
      "--- Phase S\n",
      "Station DD06\n",
      "--- Phase P\n",
      "--- Phase S\n",
      "Done!\n"
     ]
    }
   ],
   "source": [
    "# use the functions from ``\n",
    "# save travel time tables for NLLoc\n",
    "longitude, latitude, depth, tts_nlloc = BPMF.NLLoc_utils.load_pykonal_tts(\n",
    "    TT_FILENAME, path=BPMF.cfg.MOVEOUTS_PATH\n",
    ")\n",
    "\n",
    "BPMF.NLLoc_utils.write_NLLoc_inputs(\n",
    "    longitude,\n",
    "    latitude,\n",
    "    depth,\n",
    "    tts_nlloc,\n",
    "    net,\n",
    "    output_path=BPMF.cfg.NLLOC_INPUT_PATH,\n",
    "    basename=BPMF.cfg.NLLOC_BASENAME,\n",
    ")\n"
   ]
  },
  {
   "cell_type": "markdown",
   "id": "de55fee8",
   "metadata": {},
   "source": [
    "## Plot the travel time field for a given station"
   ]
  },
  {
   "cell_type": "code",
   "execution_count": 16,
   "id": "b6b3bddf",
   "metadata": {},
   "outputs": [],
   "source": [
    "import cartopy as ctp\n",
    "import matplotlib.pyplot as plt\n",
    "from mpl_toolkits.axes_grid1 import make_axes_locatable\n",
    "from mpl_toolkits.axes_grid1.inset_locator import inset_axes\n",
    "from matplotlib.colors import Normalize\n",
    "from matplotlib.cm import ScalarMappable\n",
    "from scipy.interpolate import interpn"
   ]
  },
  {
   "cell_type": "code",
   "execution_count": 17,
   "id": "ea801e83",
   "metadata": {},
   "outputs": [],
   "source": [
    "# define map parameters\n",
    "\n",
    "# define inset extent\n",
    "LAT_MIN_INSET, LAT_MAX_INSET = 36.00, 42.00\n",
    "LON_MIN_INSET, LON_MAX_INSET = 22.00, 36.00\n",
    "# define projections\n",
    "data_coords = ctp.crs.PlateCarree()\n",
    "projection = ctp.crs.Mercator(\n",
    "    central_longitude=(LON_MIN_DEG + LON_MAX_DEG) / 2.0,\n",
    "    min_latitude=LAT_MIN_DEG,\n",
    "    max_latitude=LAT_MAX_DEG,\n",
    ")\n",
    "projection_inset = ctp.crs.Mercator(\n",
    "    central_longitude=(LON_MIN_INSET + LON_MAX_INSET) / 2.0,\n",
    "    min_latitude=LAT_MIN_INSET,\n",
    "    max_latitude=LAT_MAX_INSET,\n",
    ")\n",
    "\n",
    "source_coords = {}\n",
    "source_coords[\"longitude\"] = longitudes_g\n",
    "source_coords[\"latitude\"] = latitudes_g\n",
    "source_coords[\"depth\"] = depths_g\n",
    "\n",
    "shape_3D = (n_depths, n_latitudes, n_longitudes)"
   ]
  },
  {
   "cell_type": "code",
   "execution_count": 18,
   "id": "e70454d4",
   "metadata": {},
   "outputs": [
    {
     "data": {
      "image/png": "[encoded data removed]",
      "text/plain": [
       "<Figure size 1080x1080 with 5 Axes>"
      ]
     },
     "metadata": {
      "needs_background": "light"
     },
     "output_type": "display_data"
    }
   ],
   "source": [
    "# %config InlineBackend.figure_formats = ['svg']\n",
    "\n",
    "# parameters for ray plotting\n",
    "RAY_LON_SPACING_DEG = 0.1\n",
    "RAY_LAT_SPACING_DEG = 0.1\n",
    "\n",
    "# plot map\n",
    "fig = plt.figure(\"map_stations_grid\", figsize=(15, 15))\n",
    "ax = fig.add_subplot(111, projection=projection)\n",
    "ax.set_rasterization_zorder(1.0)\n",
    "ax.set_extent([LON_MIN_DEG, LON_MAX_DEG, LAT_MIN_DEG, LAT_MAX_DEG])\n",
    "\n",
    "ax = BPMF.plotting_utils.initialize_map(\n",
    "    [LON_MIN_DEG, LON_MAX_DEG],\n",
    "    [LAT_MIN_DEG, LAT_MAX_DEG],\n",
    "    map_axis=ax,\n",
    "    seismic_stations=net.metadata,\n",
    ")\n",
    "\n",
    "BPMF.plotting_utils.add_scale_bar(ax, 0.05, 0.15, 10.0, projection)\n",
    "\n",
    "# plot inset map\n",
    "axins = inset_axes(\n",
    "    ax,\n",
    "    width=\"40%\",\n",
    "    height=\"30%\",\n",
    "    loc=\"lower right\",\n",
    "    axes_class=ctp.mpl.geoaxes.GeoAxes,\n",
    "    axes_kwargs=dict(map_projection=projection_inset),\n",
    ")\n",
    "axins.set_rasterization_zorder(1.5)\n",
    "axins.set_extent(\n",
    "    [LON_MIN_INSET, LON_MAX_INSET, LAT_MIN_INSET, LAT_MAX_INSET], crs=data_coords\n",
    ")\n",
    "# study_region = geometry.box(minx=lon_min, maxx=lon_max, miny=lat_min, maxy=lat_max)\n",
    "# axins.add_geometries([study_region], crs=data_coords, edgecolor=\"k\", facecolor=\"C0\")\n",
    "axins.plot(\n",
    "    (LON_MIN_DEG + LON_MAX_DEG) / 2.0,\n",
    "    (LAT_MIN_DEG + LAT_MAX_DEG) / 2.0,\n",
    "    marker=\"s\",\n",
    "    color=\"C0\",\n",
    "    markersize=10,\n",
    "    markeredgecolor=\"k\",\n",
    "    transform=data_coords,\n",
    ")\n",
    "axins.text(\n",
    "    (LON_MIN_DEG + LON_MAX_DEG) / 2.0 - 0.35,\n",
    "    (LAT_MIN_DEG + LAT_MAX_DEG) / 2.0 - 0.8,\n",
    "    \"Study Region\",\n",
    "    transform=data_coords,\n",
    ")\n",
    "\n",
    "axins.add_feature(ctp.feature.BORDERS)\n",
    "axins.add_feature(ctp.feature.LAND)\n",
    "axins.add_feature(ctp.feature.OCEAN)\n",
    "axins.add_feature(ctp.feature.GSHHSFeature(scale=\"full\", levels=[1], zorder=0.49))\n",
    "BPMF.plotting_utils.add_scale_bar(axins, 0.50, 0.30, 500.0, projection_inset)\n",
    "\n",
    "# -----------------------------------------------\n",
    "#     add side axes for slices of the travel time field\n",
    "divider = make_axes_locatable(ax)\n",
    "\n",
    "cs_lon = divider.append_axes(\"bottom\", size=\"30%\", pad=\"5%\", axes_class=plt.Axes)\n",
    "cs_lat = divider.append_axes(\"right\", size=\"30%\", pad=\"5%\", axes_class=plt.Axes)\n",
    "cax = divider.append_axes(\"top\", size=\"5%\", pad=\"5%\", axes_class=plt.Axes)\n",
    "\n",
    "\n",
    "def cut_through(station_code, lon_spacing=0.1, lat_spacing=0.1, cm=\"inferno\"):\n",
    "    lon_sta = net.metadata.loc[station_code].longitude\n",
    "    lat_sta = net.metadata.loc[station_code].latitude\n",
    "    elv_sta = net.metadata.loc[station_code].elevation_m\n",
    "    station_code = net.metadata.loc[station_code].stations\n",
    "    # depth = np.unique(source_coords[\"depth\"])\n",
    "    # longitude = np.unique(source_coords[\"longitude\"])\n",
    "    # latitude = np.unique(source_coords[\"latitude\"])\n",
    "    # plot station in different color on map\n",
    "    ax.scatter(lon_sta, lat_sta, s=100, marker=\"v\", color=\"C3\", transform=data_coords)\n",
    "    # find closest slice in longitude\n",
    "    idx_lon = np.abs(lon_sta - source_coords[\"longitude\"][0, 0, :]).argmin()\n",
    "    # find closest slice in latitude\n",
    "    idx_lat = np.abs(lat_sta - source_coords[\"latitude\"][0, :, 0]).argmin()\n",
    "    # plot travel-time field\n",
    "    cs_lon.clear()\n",
    "    cs_lat.clear()\n",
    "    # longitudinal slice\n",
    "    slice_lon = np.index_exp[:, idx_lat, :]\n",
    "    new_coords_slice_lon = np.stack(\n",
    "        [\n",
    "            source_coords[\"depth\"][slice_lon].flatten(),\n",
    "            lat_sta\n",
    "            * np.ones(source_coords[\"longitude\"][slice_lon].size, dtype=np.float32),\n",
    "            source_coords[\"longitude\"][slice_lon].flatten(),\n",
    "        ],\n",
    "        axis=1,\n",
    "    )\n",
    "    # interpn is fast but not very flexible: it builds a grid with strictly increasing coordinates\n",
    "    # whereas the travel-times are given with decreasing depth and latitude because these\n",
    "    # correspond to increasing radius and colatitude in spherical coordinates\n",
    "    tt_P_slice_lon = interpn(\n",
    "        (\n",
    "            np.unique(source_coords[\"depth\"]),\n",
    "            np.unique(source_coords[\"latitude\"]),\n",
    "            np.unique(source_coords[\"longitude\"]),\n",
    "        ),\n",
    "        tts[\"tt_P\"][station_code].reshape(shape_3D)[::-1, ::-1, :],\n",
    "        new_coords_slice_lon,\n",
    "    ).reshape(source_coords[\"longitude\"][slice_lon].shape)\n",
    "    # latitudinal slice\n",
    "    slice_lat = np.index_exp[:, :, idx_lon]\n",
    "    new_coords_slice_lat = np.stack(\n",
    "        [\n",
    "            source_coords[\"depth\"][slice_lat].flatten(),\n",
    "            source_coords[\"latitude\"][slice_lat].flatten(),\n",
    "            lon_sta\n",
    "            * np.ones(source_coords[\"longitude\"][slice_lat].size, dtype=np.float32),\n",
    "        ],\n",
    "        axis=1,\n",
    "    )\n",
    "    tt_P_slice_lat = interpn(\n",
    "        (\n",
    "            np.unique(source_coords[\"depth\"]),\n",
    "            np.unique(source_coords[\"latitude\"]),\n",
    "            np.unique(source_coords[\"longitude\"]),\n",
    "        ),\n",
    "        tts[\"tt_P\"][station_code].reshape(shape_3D)[::-1, ::-1, :],\n",
    "        new_coords_slice_lat,\n",
    "    ).reshape(source_coords[\"longitude\"][slice_lat].shape)\n",
    "    # define tt color scale\n",
    "    cnorm = Normalize(vmin=0.0, vmax=max(tt_P_slice_lon.max(), tt_P_slice_lat.max()))\n",
    "    scalar_map = ScalarMappable(norm=cnorm, cmap=cm)\n",
    "    # plot slices\n",
    "    cs_lon.pcolormesh(\n",
    "        source_coords[\"longitude\"][slice_lon],\n",
    "        source_coords[\"depth\"][slice_lon],\n",
    "        tt_P_slice_lon,\n",
    "        cmap=cm,\n",
    "        vmin=cnorm.vmin,\n",
    "        vmax=cnorm.vmax,\n",
    "        rasterized=True,\n",
    "    )\n",
    "    cs_lon.contour(\n",
    "        source_coords[\"longitude\"][slice_lon],\n",
    "        source_coords[\"depth\"][slice_lon],\n",
    "        tt_P_slice_lon,\n",
    "        cmap=\"Greys\",\n",
    "        linestyles=\"--\"\n",
    "    )\n",
    "    cs_lat.pcolormesh(\n",
    "        source_coords[\"depth\"][slice_lat],\n",
    "        source_coords[\"latitude\"][slice_lat],\n",
    "        tt_P_slice_lat,\n",
    "        cmap=cm,\n",
    "        vmin=cnorm.vmin,\n",
    "        vmax=cnorm.vmax,\n",
    "        rasterized=True,\n",
    "    )\n",
    "    cs_lat.contour(\n",
    "        source_coords[\"depth\"][slice_lat],\n",
    "        source_coords[\"latitude\"][slice_lat],\n",
    "        tt_P_slice_lat,\n",
    "        cmap=\"Greys\",\n",
    "        linestyles=\"--\"\n",
    "    )\n",
    "    \n",
    "    # format axis labels\n",
    "    cs_lon.invert_yaxis()\n",
    "    cs_lat.yaxis.set_label_position(\"right\")\n",
    "    cs_lat.yaxis.tick_right()\n",
    "    cs_lon.set_ylabel(\"Depth (km)\")\n",
    "    cs_lon.set_xlabel(\"Longitude (\" \"\\u00b0\" \")\")\n",
    "    cs_lat.set_xlabel(\"Depth (km)\")\n",
    "    cs_lat.set_ylabel(\"Latitude (\" \"\\u00b0\" \")\")\n",
    "    # add station symbols\n",
    "    cs_lon.plot(\n",
    "        lon_sta,\n",
    "        -elv_sta / 1000.0,\n",
    "        marker=\"v\",\n",
    "        color=\"C3\",\n",
    "        markeredgecolor=\"white\",\n",
    "        markersize=20,\n",
    "    )\n",
    "    cs_lat.plot(\n",
    "        -elv_sta / 1000.0,\n",
    "        lat_sta,\n",
    "        marker=\">\",\n",
    "        color=\"C3\",\n",
    "        markeredgecolor=\"white\",\n",
    "        markersize=20,\n",
    "    )\n",
    "\n",
    "    cs_lon.set_xlim(LON_MIN_DEG, LON_MAX_DEG)\n",
    "    cs_lat.set_ylim(LAT_MIN_DEG, LAT_MAX_DEG)\n",
    "\n",
    "    plt.colorbar(\n",
    "        scalar_map, cax=cax, label=\"P-wave travel time (s)\", orientation=\"horizontal\"\n",
    "    )\n",
    "    cax.xaxis.set_label_position(\"top\")\n",
    "    cax.xaxis.tick_top()\n",
    "\n",
    "\n",
    "cut_through(\"SPNC\")\n"
   ]
  },
  {
   "attachments": {},
   "cell_type": "markdown",
   "id": "a5a04ae5",
   "metadata": {},
   "source": [
    "## Bonus: Do you need a downsampled grid for efficient earthquake detection (backprojection)?\n",
    "\n",
    "If you want to study a large region and computed a large grid (several millions of grid points), earthquake detection with backprojection (see next notebook) will be quite slow. In fact, you might just want to keep those grid points that have significantly different moveouts to avoid losing time in redundant computations. The following cell shows how to use `BPMF.clib.find_similar_sources` to downsample the grid in a \"smart\" way.\n",
    "\n",
    "!! This operation does not overwrite the original grid, which is still available for the accurate earthquake location !!"
   ]
  },
  {
   "cell_type": "code",
   "execution_count": 19,
   "id": "6a85520b",
   "metadata": {},
   "outputs": [],
   "source": [
    "import os\n",
    "# choose the number of threads you want to limit the computation to\n",
    "n_CPUs = 24\n",
    "os.environ[\"OMP_NUM_THREADS\"] = str(n_CPUs)\n",
    "import BPMF\n",
    "\n",
    "# travel-time phases to read\n",
    "PHASES = [\"P\", \"S\"]\n",
    "# minimum root-mean-square time difference, in samples, below which two grid sources are considered the same\n",
    "MIN_TIME_DIFFERENCE_SAMP = 1 \n",
    "MIN_TIME_DIFFERENCE_SEC = MIN_TIME_DIFFERENCE_SAMP/BPMF.cfg.SAMPLING_RATE_HZ\n",
    "# define the width, in degrees, of the cells used to group proximal grid points\n",
    "# and efficiently search for similar moveouts\n",
    "CELL_WIDTH_DEG = 0.50"
   ]
  },
  {
   "cell_type": "code",
   "execution_count": 20,
   "id": "950d5928",
   "metadata": {},
   "outputs": [
    {
     "name": "stdout",
     "output_type": "stream",
     "text": [
      "Start reading travel times...\n",
      "There are 35490 points in the grid.\n"
     ]
    }
   ],
   "source": [
    "# -------------------------------------------\n",
    "#            Load travel-times\n",
    "# -------------------------------------------\n",
    "tts = BPMF.template_search.TravelTimes(\n",
    "    TT_FILENAME,\n",
    "    tt_folder_path=BPMF.cfg.MOVEOUTS_PATH,\n",
    ")\n",
    "print(\"Start reading travel times...\")\n",
    "tts.read(\n",
    "    PHASES,\n",
    "    read_coords=True,\n",
    "    stations=net.stations,\n",
    ")\n",
    "print(f\"There are {tts.num_sources} points in the grid.\")\n",
    "\n",
    "moveouts = tts.get_travel_times_array(units=\"seconds\", relative_to_first=True)\n",
    "moveouts = moveouts.astype(\"float32\")"
   ]
  },
  {
   "cell_type": "code",
   "execution_count": 21,
   "id": "c6136c27",
   "metadata": {},
   "outputs": [
    {
     "name": "stdout",
     "output_type": "stream",
     "text": [
      "There are 2 cells in longitude.\n",
      "There are 2 cells in latitude.\n"
     ]
    }
   ],
   "source": [
    "# -------------------------------------------\n",
    "#              Define cells\n",
    "# -------------------------------------------\n",
    "lon_min, lon_max = (\n",
    "    tts.source_coords[\"longitude\"].min(),\n",
    "    tts.source_coords[\"longitude\"].max(),\n",
    ")\n",
    "lat_min, lat_max = (\n",
    "    tts.source_coords[\"latitude\"].min(),\n",
    "    tts.source_coords[\"latitude\"].max(),\n",
    ")\n",
    "cell_longitudes = np.arange(lon_min, lon_max + CELL_WIDTH_DEG, CELL_WIDTH_DEG)\n",
    "cell_latitudes = np.arange(lat_min, lat_max + CELL_WIDTH_DEG, CELL_WIDTH_DEG)\n",
    "\n",
    "print(f\"There are {len(cell_longitudes)} cells in longitude.\")\n",
    "print(f\"There are {len(cell_latitudes)} cells in latitude.\")"
   ]
  },
  {
   "attachments": {},
   "cell_type": "markdown",
   "id": "1b51d886",
   "metadata": {},
   "source": [
    "We can now call `BPMF.clib.find_similar_sources` with the given threshold `MIN_TIME_DIFFERENCE_SEC`. This routine returns an array of booleans that has as many elements as there are points in the grid. The sources that are kept in the downsampled grid correspond to the `True` elements of the output array.\n",
    "\n",
    "The following cell should take very little time for the tutorial but it is not always the case for large-scale applications:\n",
    "\n",
    "!! The following cell can take a VERY long time for large grids (~24hours or more). This is a ONE TIME COMPUTATION that you probably want to run outside of this notebook when dealing with a large-scale problem. !!"
   ]
  },
  {
   "cell_type": "code",
   "execution_count": 22,
   "id": "2584e914",
   "metadata": {},
   "outputs": [
    {
     "name": "stdout",
     "output_type": "stream",
     "text": [
      "RMS threshold: 0.0400, summed squares threshold: 0.0128\n",
      "---------- 1 / 1 ----------\n",
      "Second loop\n",
      "Progress: 0%\n",
      "Progress: 10%\n",
      "Progress: 20%\n",
      "Progress: 30%\n",
      "Progress: 40%\n",
      "Progress: 50%\n",
      "Progress: 60%\n",
      "Progress: 70%\n",
      "Progress: 80%\n",
      "Progress: 90%\n"
     ]
    }
   ],
   "source": [
    "# -------------------------------------------\n",
    "#         Find redundant sources!\n",
    "# -------------------------------------------\n",
    "#sys.exit()\n",
    "redundant_sources = BPMF.clib.find_similar_sources(\n",
    "        moveouts,\n",
    "        tts.source_coords[\"longitude\"].values,\n",
    "        tts.source_coords[\"latitude\"].values,\n",
    "        cell_longitudes,\n",
    "        cell_latitudes,\n",
    "        MIN_TIME_DIFFERENCE_SEC,\n",
    "        # num_stations_for_diff=NUM_STATIONS_FOR_DIFF, # do not use this argument in the tutorial because the network is small\n",
    "        )"
   ]
  },
  {
   "attachments": {},
   "cell_type": "markdown",
   "id": "9e4064f4",
   "metadata": {},
   "source": [
    "We obtain the indexes of the non-redundant sources:"
   ]
  },
  {
   "cell_type": "code",
   "execution_count": 23,
   "id": "4d09ed84",
   "metadata": {},
   "outputs": [
    {
     "name": "stdout",
     "output_type": "stream",
     "text": [
      "There are 14124 sources in the downsampled grid vs 35490 in the original grid.\n"
     ]
    }
   ],
   "source": [
    "sparse_grid_indexes = np.arange(len(redundant_sources), dtype=np.int32)[\n",
    "    ~redundant_sources\n",
    "]\n",
    "print(f\"There are {len(sparse_grid_indexes)} sources in the downsampled grid\"\n",
    "      f\" vs {len(redundant_sources)} in the original grid.\")"
   ]
  },
  {
   "attachments": {},
   "cell_type": "markdown",
   "id": "1b8d2d21",
   "metadata": {},
   "source": [
    "We need to save the grid source indexes that constitute the downsampled grid to be able to reconstruct this downsampled grid in the future. Here, we save `sparse_grid_indexes` in an `npy` file in the same folder where the travel times are."
   ]
  },
  {
   "cell_type": "code",
   "execution_count": 24,
   "id": "67fdc639",
   "metadata": {},
   "outputs": [],
   "source": [
    "np.save(\n",
    "    os.path.join(\n",
    "        BPMF.cfg.MOVEOUTS_PATH, f\"sparse_grid_indexes_{MIN_TIME_DIFFERENCE_SEC:.2f}.npy\"\n",
    "    ),\n",
    "    sparse_grid_indexes,\n",
    ")"
   ]
  }
 ],
 "metadata": {
  "kernelspec": {
   "display_name": "Python 3.10.4 ('hy7_py310')",
   "language": "python",
   "name": "python3"
  },
  "language_info": {
   "codemirror_mode": {
    "name": "ipython",
    "version": 3
   },
   "file_extension": ".py",
   "mimetype": "text/x-python",
   "name": "python",
   "nbconvert_exporter": "python",
   "pygments_lexer": "ipython3",
   "version": "3.10.4"
  },
  "vscode": {
   "interpreter": {
    "hash": "221f0e5b1b98151b07a79bf3b6d0c1d306576197d2c4531763770570a29e708e"
   }
  }
 },
 "nbformat": 4,
 "nbformat_minor": 5
}
